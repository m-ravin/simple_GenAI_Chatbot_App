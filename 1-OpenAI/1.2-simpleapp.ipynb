{
 "cells": [
  {
   "cell_type": "markdown",
   "id": "4a55a5a6",
   "metadata": {},
   "source": [
    "#### Simple GenAI app using Langchain and OpenAI"
   ]
  },
  {
   "cell_type": "code",
   "execution_count": null,
   "id": "231ff3c6",
   "metadata": {},
   "outputs": [],
   "source": [
    "import os\n",
    "from dotenv import load_dotenv\n",
    "load_dotenv()  # Load environment variables from .env file\n",
    "\n",
    "os.environ[\"LANGCHAIN_PROJECT\"] = os.getenv(\"LANGCHAIN_PROJECT\")\n",
    "os.environ[\"LANGCHAIN_API_KEY\"] = os.getenv(\"LANGCHAIN_API_KEY\")\n",
    "os.environ[\"OPENAI_API_KEY\"] = os.getenv(\"OPENAI_API_KEY\")\n",
    "os.environ[\"LANGCHAIN_TRACING_V2\"] = \"true\""
   ]
  },
  {
   "cell_type": "code",
   "execution_count": null,
   "id": "2b220c43",
   "metadata": {},
   "outputs": [],
   "source": [
    "#Data ingestion from websites\n",
    "from langchain_community.document_loaders import WebBaseLoader\n",
    "loader = WebBaseLoader(\"https://docs.langchain.com/oss/python/langchain/quickstart\")\n",
    "docs = loader.load()  # --- IGNORE ---"
   ]
  },
  {
   "cell_type": "code",
   "execution_count": null,
   "id": "419b6338",
   "metadata": {},
   "outputs": [],
   "source": [
    "#split the documents into chunks\n",
    "from langchain.text_splitter import RecursiveCharacterTextSplitter\n",
    "text_splitter = RecursiveCharacterTextSplitter(chunk_size=1000, chunk_overlap=200)\n",
    "documents = text_splitter.split_documents(docs) "
   ]
  },
  {
   "cell_type": "code",
   "execution_count": null,
   "id": "1ebd1e66",
   "metadata": {},
   "outputs": [],
   "source": [
    "documents"
   ]
  },
  {
   "cell_type": "code",
   "execution_count": null,
   "id": "624ea2a4",
   "metadata": {},
   "outputs": [],
   "source": [
    "#embded the documents\n",
    "from langchain.embeddings import OpenAIEmbeddings\n",
    "embeddings = OpenAIEmbeddings()"
   ]
  },
  {
   "cell_type": "code",
   "execution_count": null,
   "id": "61a2e985",
   "metadata": {},
   "outputs": [],
   "source": [
    "#store the embeddings in a vector database\n",
    "from langchain.vectorstores import FAISS\n",
    "vectorstordb=FAISS.from_documents(documents,embeddings)"
   ]
  },
  {
   "cell_type": "code",
   "execution_count": null,
   "id": "4d5f54a1",
   "metadata": {},
   "outputs": [],
   "source": [
    "vectorstordb"
   ]
  },
  {
   "cell_type": "code",
   "execution_count": null,
   "id": "d35dd217",
   "metadata": {},
   "outputs": [],
   "source": [
    "#search from vector database\n",
    "query=\"Tools can depend on runtime context and also interact\"\n",
    "results=vectorstordb.similarity_search(query)\n",
    "results[0].page_content"
   ]
  },
  {
   "cell_type": "code",
   "execution_count": null,
   "id": "cdeac0c6",
   "metadata": {},
   "outputs": [],
   "source": [
    "query=\"Tools can depend on runtime context and also interact\"\n",
    "results=vectorstordb.similarity_search_with_score(query)\n",
    "results"
   ]
  },
  {
   "cell_type": "code",
   "execution_count": null,
   "id": "f52cf089",
   "metadata": {},
   "outputs": [],
   "source": [
    "#Retrieval chain, document chain\n",
    "from langchain.chains.combine_documents import create_stuff_documents_chain\n",
    "from langchain.prompts import ChatPromptTemplate\n",
    "from langchain_openai import ChatOpenAI\n",
    "llm = ChatOpenAI(model=\"gpt-4o\")\n",
    "\n",
    "prompt = ChatPromptTemplate.from_template(\"\"\"Answer the following question based only on the provided context:\n",
    "\n",
    "<context>\n",
    "{context}\n",
    "</context>\n",
    "\n",
    "\"\"\")\n",
    "document_chain = create_stuff_documents_chain(llm, prompt)\n",
    "document_chain"
   ]
  },
  {
   "cell_type": "code",
   "execution_count": null,
   "id": "ece35ef9",
   "metadata": {},
   "outputs": [],
   "source": [
    "from langchain_core.documents import Document\n",
    "document_chain.invoke({\n",
    "    \"input\":\"Tools can depend on runtime context and also interact\",\n",
    "    \"context\": [Document(page_content=\"Tools let a model interact with external systems by calling functions you define. Tools can depend on runtime context and also interact with agent memory\")],\n",
    " \n",
    "})"
   ]
  },
  {
   "cell_type": "markdown",
   "id": "138591f9",
   "metadata": {},
   "source": [
    "##### We need the documents to come from the retrievers"
   ]
  },
  {
   "cell_type": "code",
   "execution_count": null,
   "id": "99ec3a2e",
   "metadata": {},
   "outputs": [],
   "source": [
    "## input --> retriver --> vectorDB\n",
    "\n",
    "retriever = vectorstordb.as_retriever()\n",
    "from langchain.chains import create_retrieval_chain\n",
    "retrieval_chain=create_retrieval_chain(retriever, document_chain)"
   ]
  },
  {
   "cell_type": "code",
   "execution_count": null,
   "id": "dc3f0dc8",
   "metadata": {},
   "outputs": [],
   "source": [
    "retrieval_chain"
   ]
  },
  {
   "cell_type": "code",
   "execution_count": null,
   "id": "d9dea354",
   "metadata": {},
   "outputs": [],
   "source": [
    "# Get the response from the retrieval chain\n",
    "response = retrieval_chain.invoke({\"input\":\"Tools can depend on runtime context and also interact\"})"
   ]
  },
  {
   "cell_type": "code",
   "execution_count": null,
   "id": "b3809b28",
   "metadata": {},
   "outputs": [],
   "source": [
    "response['answer']"
   ]
  },
  {
   "cell_type": "code",
   "execution_count": null,
   "id": "c9a37111",
   "metadata": {},
   "outputs": [],
   "source": [
    "response['context']"
   ]
  },
  {
   "cell_type": "code",
   "execution_count": null,
   "id": "7117adc2",
   "metadata": {},
   "outputs": [],
   "source": []
  }
 ],
 "metadata": {
  "kernelspec": {
   "display_name": "genai_langchain (3.12.5)",
   "language": "python",
   "name": "python3"
  },
  "language_info": {
   "codemirror_mode": {
    "name": "ipython",
    "version": 3
   },
   "file_extension": ".py",
   "mimetype": "text/x-python",
   "name": "python",
   "nbconvert_exporter": "python",
   "pygments_lexer": "ipython3",
   "version": "3.12.5"
  }
 },
 "nbformat": 4,
 "nbformat_minor": 5
}
